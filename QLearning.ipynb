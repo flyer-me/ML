{
 "cells": [
  {
   "cell_type": "code",
   "execution_count": 1,
   "metadata": {},
   "outputs": [],
   "source": [
    "import sys\n",
    "from pathlib import Path\n",
    "curr_path = str(Path().absolute())\n",
    "parent_path = str(Path().absolute().parent)\n",
    "sys.path.append(parent_path) # 添加路径到系统路径\n",
    "\n",
    "import gym\n",
    "import torch\n",
    "import math\n",
    "import datetime\n",
    "import numpy as np\n",
    "from collections import defaultdict\n",
    "from envs.gridworld_env import CliffWalkingWapper\n",
    "from common.utils import plot_rewards\n",
    "from common.utils import save_results,make_dir\n"
   ]
  },
  {
   "cell_type": "markdown",
   "metadata": {},
   "source": [
    "## QLearning算法"
   ]
  },
  {
   "cell_type": "code",
   "execution_count": 2,
   "metadata": {},
   "outputs": [],
   "source": [
    "class QLearning(object):\n",
    "    def __init__(self,state_dim,\n",
    "                 action_dim,cfg):\n",
    "        self.action_dim = action_dim \n",
    "        self.lr = cfg.lr  # 学习率\n",
    "        self.gamma = cfg.gamma  \n",
    "        self.epsilon = 0 \n",
    "        self.sample_count = 0  \n",
    "        self.epsilon_start = cfg.epsilon_start\n",
    "        self.epsilon_end = cfg.epsilon_end\n",
    "        self.epsilon_decay = cfg.epsilon_decay\n",
    "        self.Q_table  = defaultdict(lambda: np.zeros(action_dim)) # 用嵌套字典存放状态->动作->状态-动作值（Q值）的映射，即Q表\n",
    "    def choose_action(self, state):\n",
    "        self.sample_count += 1\n",
    "        self.epsilon = self.epsilon_end + (self.epsilon_start - self.epsilon_end) * \\\n",
    "            math.exp(-1. * self.sample_count / self.epsilon_decay) # epsilon是会递减的，这里选择指数递减\n",
    "        # e-greedy 策略\n",
    "        if np.random.uniform(0, 1) > self.epsilon:\n",
    "            action = np.argmax(self.Q_table[str(state)]) # 选择Q(s,a)最大对应的动作\n",
    "        else:\n",
    "            action = np.random.choice(self.action_dim) # 随机选择动作\n",
    "        return action\n",
    "    def predict(self,state):\n",
    "        action = np.argmax(self.Q_table[str(state)])\n",
    "        return action\n",
    "    def update(self, state, action, reward, next_state, done):\n",
    "        Q_predict = self.Q_table[str(state)][action] \n",
    "        if done: # 终止状态\n",
    "            Q_target = reward  \n",
    "        else:\n",
    "            Q_target = reward + self.gamma * np.max(self.Q_table[str(next_state)]) \n",
    "        self.Q_table[str(state)][action] += self.lr * (Q_target - Q_predict)\n",
    "    def save(self,path):\n",
    "        import dill\n",
    "        torch.save(\n",
    "            obj=self.Q_table,\n",
    "            f=path+\"Qleaning_model.pkl\",\n",
    "            pickle_module=dill\n",
    "        )\n",
    "        print(\"保存模型成功！\")\n",
    "    def load(self, path):\n",
    "        import dill\n",
    "        self.Q_table =torch.load(f=path+'Qleaning_model.pkl',pickle_module=dill)\n",
    "        print(\"加载模型成功！\")"
   ]
  },
  {
   "cell_type": "markdown",
   "metadata": {},
   "source": [
    "## 训练"
   ]
  },
  {
   "cell_type": "code",
   "execution_count": 3,
   "metadata": {},
   "outputs": [],
   "source": [
    "def train(cfg,env,agent):\n",
    "    print('开始训练!')\n",
    "    print(f'环境：{cfg.env_name}, 算法：{cfg.algo_name}, 设备：{cfg.device}')\n",
    "    rewards = []  # 记录奖励\n",
    "    ma_rewards = [] # 记录滑动平均奖励\n",
    "    for i_ep in range(cfg.train_eps):\n",
    "        ep_reward = 0  # 记录每个episode的reward\n",
    "        state = env.reset()  # 重置环境, 重新开一局（即开始新的一个episode）\n",
    "        while True:\n",
    "\n",
    "            #根据算法选择一个动作,通过调用choose_action函数完成\n",
    "            action = agent.choose_action(state)#----code here----#\n",
    "            \n",
    "            next_state, reward, done, _ = env.step(action)  # 与环境进行一次动作交互\n",
    "\n",
    "            #Q-learning 算法更新，通过调用update函数完成\n",
    "            agent.update(state, action, reward, next_state, done)#----code here----#\n",
    "            \n",
    "            #存储上一个观察值\n",
    "            state = next_state#----code here----#\n",
    "            \n",
    "            # env.render()#可视化gym\n",
    "            ep_reward += reward\n",
    "            if done:\n",
    "                break\n",
    "        rewards.append(ep_reward)\n",
    "        if ma_rewards:\n",
    "            ma_rewards.append(ma_rewards[-1]*0.9+ep_reward*0.1)\n",
    "        else:\n",
    "            ma_rewards.append(ep_reward)\n",
    "        if (i_ep+1)%20 == 0: \n",
    "            print('回合：{}/{}, 奖励：{}'.format(i_ep+1, cfg.train_eps, ep_reward))\n",
    "    print('完成训练！')\n",
    "    return rewards,ma_rewards"
   ]
  },
  {
   "cell_type": "markdown",
   "metadata": {},
   "source": [
    "## 测试"
   ]
  },
  {
   "cell_type": "code",
   "execution_count": 4,
   "metadata": {},
   "outputs": [],
   "source": [
    "def test(cfg,env,agent):\n",
    "    # env = gym.make(\"FrozenLake-v0\", is_slippery=False)  # 0 left, 1 down, 2 right, 3 up\n",
    "    # env = FrozenLakeWapper(env)\n",
    "    print('开始测试!')\n",
    "    print(f'环境：{cfg.env_name}, 算法：{cfg.algo_name}, 设备：{cfg.device}')\n",
    "    # 由于测试不需要使用epsilon-greedy策略，所以相应的值设置为0\n",
    "    cfg.epsilon_start = 0.0 # e-greedy策略中初始epsilon\n",
    "    cfg.epsilon_end = 0.0 # e-greedy策略中的终止epsilon\n",
    "    rewards = [] # 记录所有回合的奖励\n",
    "    ma_rewards = []  # 记录所有回合的滑动平均奖励\n",
    "    rewards = []  # 记录所有episode的reward\n",
    "    ma_rewards = [] # 滑动平均的reward\n",
    "    for i_ep in range(cfg.test_eps):\n",
    "        ep_reward = 0  # 记录每个episode的reward\n",
    "        state = env.reset()  # 重置环境, 重新开一局（即开始新的一个episode）\n",
    "        while True:\n",
    "\n",
    "            #根据算法选择一个动作,测试时用predict_action单纯贪心地选择网络的值输出动作\n",
    "            action = agent.predict(state)#----code here----#\n",
    "            next_state, reward, done, _ = env.step(action)  # 与环境进行一次动作交互\n",
    "            #存储上一个观察值\n",
    "            state = next_state#----code here----#\n",
    "\n",
    "            # env.render() #可视化gym\n",
    "            ep_reward += reward\n",
    "            if done:\n",
    "                break\n",
    "        rewards.append(ep_reward)\n",
    "        if ma_rewards:\n",
    "            ma_rewards.append(ma_rewards[-1]*0.9+ep_reward*0.1)\n",
    "        else:\n",
    "            ma_rewards.append(ep_reward)\n",
    "        print(f\"回合：{i_ep+1}/{cfg.test_eps}，奖励：{ep_reward:.1f}\")\n",
    "    print('完成测试！')\n",
    "    return rewards,ma_rewards"
   ]
  },
  {
   "cell_type": "markdown",
   "metadata": {},
   "source": [
    "## 设置参数"
   ]
  },
  {
   "cell_type": "code",
   "execution_count": 5,
   "metadata": {},
   "outputs": [],
   "source": [
    "curr_time = datetime.datetime.now().strftime(\"%Y%m%d-%H%M%S\") # 获取当前时间\n",
    "algo_name = 'Q-learning'  # 算法名称\n",
    "env_name = 'CliffWalking-v0'  # 环境名称\n",
    "device = torch.device(\"cuda\" if torch.cuda.is_available() else \"cpu\") # 检测GPU\n",
    "class QlearningConfig:\n",
    "    '''训练相关参数'''\n",
    "    def __init__(self):\n",
    "        self.algo_name = algo_name # 算法名称\n",
    "        self.env_name = env_name # 环境名称\n",
    "        self.device = device # 检测GPU\n",
    "        self.train_eps = 400 # 训练的回合数\n",
    "        self.test_eps = 20 # 测试的回合数\n",
    "        self.gamma = 0.9 # reward的衰减率\n",
    "        self.epsilon_start = 0.95 # e-greedy策略中初始epsilon\n",
    "        self.epsilon_end = 0.01 # e-greedy策略中的终止epsilon\n",
    "        self.epsilon_decay = 300 # e-greedy策略中epsilon的衰减率\n",
    "        self.lr = 0.1 # 学习率      \n",
    "class PlotConfig:\n",
    "    ''' 绘图相关参数设置\n",
    "    '''\n",
    "\n",
    "    def __init__(self) -> None:\n",
    "        self.algo_name = algo_name  # 算法名称\n",
    "        self.env_name = env_name  # 环境名称\n",
    "        self.device = device # 检测GPU\n",
    "        self.result_path = curr_path + \"/outputs/\" + self.env_name + \\\n",
    "            '/' + curr_time + '/results/'  # 保存结果的路径\n",
    "        self.model_path = curr_path + \"/outputs/\" + self.env_name + \\\n",
    "            '/' + curr_time + '/models/'  # 保存模型的路径\n",
    "        self.save = True  # 是否保存图片"
   ]
  },
  {
   "cell_type": "markdown",
   "metadata": {},
   "source": [
    "## 创建环境和智能体"
   ]
  },
  {
   "cell_type": "code",
   "execution_count": 6,
   "metadata": {},
   "outputs": [],
   "source": [
    "def env_agent_config(cfg,seed=1):\n",
    "    '''创建环境和智能体\n",
    "    Args:\n",
    "        cfg ([type]): [description]\n",
    "        seed (int, optional): 随机种子. Defaults to 1.\n",
    "    Returns:\n",
    "        env [type]: 环境\n",
    "        agent : 智能体\n",
    "    '''    \n",
    "    env = gym.make(cfg.env_name)  \n",
    "    env = CliffWalkingWapper(env)\n",
    "    env.seed(seed) # 设置随机种子\n",
    "    state_dim = env.observation_space.n # 状态维度\n",
    "    action_dim = env.action_space.n # 动作维度\n",
    "    agent = QLearning(state_dim,action_dim,cfg)\n",
    "    return env,agent"
   ]
  },
  {
   "cell_type": "markdown",
   "metadata": {},
   "source": [
    "## 执行训练并输出结果"
   ]
  },
  {
   "cell_type": "code",
   "execution_count": 7,
   "metadata": {},
   "outputs": [
    {
     "name": "stdout",
     "output_type": "stream",
     "text": [
      "开始训练!\n",
      "环境：CliffWalking-v0, 算法：Q-learning, 设备：cpu\n",
      "回合：20/400, 奖励：-43\n",
      "回合：40/400, 奖励：-20\n",
      "回合：60/400, 奖励：-52\n",
      "回合：80/400, 奖励：-52\n",
      "回合：100/400, 奖励：-41\n",
      "回合：120/400, 奖励：-36\n",
      "回合：140/400, 奖励：-37\n",
      "回合：160/400, 奖励：-35\n",
      "回合：180/400, 奖励：-27\n",
      "回合：200/400, 奖励：-27\n",
      "回合：220/400, 奖励：-26\n",
      "回合：240/400, 奖励：-32\n",
      "回合：260/400, 奖励：-14\n",
      "回合：280/400, 奖励：-21\n",
      "回合：300/400, 奖励：-17\n",
      "回合：320/400, 奖励：-113\n",
      "回合：340/400, 奖励：-13\n",
      "回合：360/400, 奖励：-13\n",
      "回合：380/400, 奖励：-13\n",
      "回合：400/400, 奖励：-13\n",
      "完成训练！\n",
      "保存模型成功！\n",
      "结果保存完毕！\n"
     ]
    },
    {
     "data": {
      "image/png": "[encoded data removed]",
      "text/plain": [
       "<Figure size 432x288 with 1 Axes>"
      ]
     },
     "metadata": {},
     "output_type": "display_data"
    },
    {
     "name": "stdout",
     "output_type": "stream",
     "text": [
      "加载模型成功！\n",
      "开始测试!\n",
      "环境：CliffWalking-v0, 算法：Q-learning, 设备：cpu\n",
      "回合：1/20，奖励：-13.0\n",
      "回合：2/20，奖励：-13.0\n",
      "回合：3/20，奖励：-13.0\n",
      "回合：4/20，奖励：-13.0\n",
      "回合：5/20，奖励：-13.0\n",
      "回合：6/20，奖励：-13.0\n",
      "回合：7/20，奖励：-13.0\n",
      "回合：8/20，奖励：-13.0\n",
      "回合：9/20，奖励：-13.0\n",
      "回合：10/20，奖励：-13.0\n",
      "回合：11/20，奖励：-13.0\n",
      "回合：12/20，奖励：-13.0\n",
      "回合：13/20，奖励：-13.0\n",
      "回合：14/20，奖励：-13.0\n",
      "回合：15/20，奖励：-13.0\n",
      "回合：16/20，奖励：-13.0\n",
      "回合：17/20，奖励：-13.0\n",
      "回合：18/20，奖励：-13.0\n",
      "回合：19/20，奖励：-13.0\n",
      "回合：20/20，奖励：-13.0\n",
      "完成测试！\n",
      "结果保存完毕！\n"
     ]
    },
    {
     "data": {
      "image/png": "[encoded data removed]",
      "text/plain": [
       "<Figure size 432x288 with 1 Axes>"
      ]
     },
     "metadata": {},
     "output_type": "display_data"
    }
   ],
   "source": [
    "cfg = QlearningConfig()\n",
    "plot_cfg = PlotConfig()\n",
    "# 训练\n",
    "env, agent = env_agent_config(cfg, seed=1)\n",
    "\n",
    "# 执行训练,并返回结果rewards, ma_rewards\n",
    "rewards, ma_rewards = train(cfg,env,agent)#----code here----#\n",
    "\n",
    "\n",
    "make_dir(plot_cfg.result_path, plot_cfg.model_path)  # 创建保存结果和模型路径的文件夹\n",
    "agent.save(path=plot_cfg.model_path)  # 保存模型\n",
    "save_results(rewards, ma_rewards, tag='train',\n",
    "            path=plot_cfg.result_path)  # 保存结果\n",
    "plot_rewards(rewards, ma_rewards, plot_cfg, tag=\"train\")  # 画出结果\n",
    "# 测试\n",
    "env, agent = env_agent_config(cfg, seed=10)\n",
    "\n",
    "# 导入模型，使用绘图相关参数，导入保存模型的路径\n",
    "agent.load(path=plot_cfg.model_path)#----code here----#\n",
    "\n",
    "rewards, ma_rewards = test(cfg, env, agent)\n",
    "save_results(rewards, ma_rewards, tag='test', path=plot_cfg.result_path)  # 保存结果\n",
    "plot_rewards(rewards, ma_rewards, plot_cfg, tag=\"test\")  # 画出结果"
   ]
  }
 ],
 "metadata": {
  "interpreter": {
   "hash": "fbea1422c2cf61ed9c0cfc03f38f71cc9083cc288606edc4170b5309b352ce27"
  },
  "kernelspec": {
   "display_name": "Qlearning",
   "language": "python",
   "name": "qlearning"
  },
  "language_info": {
   "codemirror_mode": {
    "name": "ipython",
    "version": 3
   },
   "file_extension": ".py",
   "mimetype": "text/x-python",
   "name": "python",
   "nbconvert_exporter": "python",
   "pygments_lexer": "ipython3",
   "version": "3.7.12"
  }
 },
 "nbformat": 4,
 "nbformat_minor": 2
}
