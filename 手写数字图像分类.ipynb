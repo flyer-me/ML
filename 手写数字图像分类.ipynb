{
 "cells": [
  {
   "cell_type": "code",
   "execution_count": 1,
   "id": "ffd87893",
   "metadata": {},
   "outputs": [],
   "source": [
    "# 导入基础库\n",
    "import numpy as np\n",
    "import matplotlib.pyplot as plt\n",
    "from sklearn import datasets\n",
    "from sklearn.model_selection import train_test_split"
   ]
  },
  {
   "cell_type": "code",
   "execution_count": 2,
   "id": "d4d922d1",
   "metadata": {
    "scrolled": true
   },
   "outputs": [],
   "source": [
    "# 数据处理\n",
    "digits = datasets.load_digits()\n",
    "\n",
    "X_train, X_test, y_train, y_test = train_test_split(\n",
    "    digits.data, digits.target, test_size=0.5, shuffle=False)"
   ]
  },
  {
   "cell_type": "code",
   "execution_count": 3,
   "id": "23dea876",
   "metadata": {},
   "outputs": [
    {
     "data": {
      "text/plain": [
       "LogisticRegression(max_iter=3000)"
      ]
     },
     "execution_count": 3,
     "metadata": {},
     "output_type": "execute_result"
    }
   ],
   "source": [
    "# 模型构建\n",
    "from sklearn.neural_network import MLPClassifier\n",
    "mlp = MLPClassifier(max_iter=3000)#迭代次数可改变\n",
    "# 模型训练\n",
    "mlp.fit(X_train,y_train)\n",
    "\n",
    "#SVC部分\n",
    "from sklearn.svm import SVC\n",
    "svc = SVC()\n",
    "svc.fit(X_train,y_train)\n",
    "\n",
    "#逻辑回归部分\n",
    "from sklearn.linear_model import LogisticRegression\n",
    "lr = LogisticRegression(max_iter=3000)\n",
    "lr.fit(X_train,y_train)"
   ]
  },
  {
   "cell_type": "code",
   "execution_count": 4,
   "id": "0560f8f2",
   "metadata": {},
   "outputs": [],
   "source": [
    "# 模型测试\n",
    "mlp_predicted = mlp.predict(X_test)\n",
    "svc_predicted = svc.predict(X_test)\n",
    "lr_predicted = lr.predict(X_test)"
   ]
  },
  {
   "cell_type": "code",
   "execution_count": 5,
   "id": "514ddfcd",
   "metadata": {},
   "outputs": [
    {
     "data": {
      "image/png": "[encoded data removed]",
      "text/plain": [
       "<Figure size 1152x576 with 12 Axes>"
      ]
     },
     "metadata": {
      "needs_background": "light"
     },
     "output_type": "display_data"
    }
   ],
   "source": [
    "# 结果绘图展示\n",
    "mlp_images_and_predictions = list(zip(digits.images[len(digits.images) // 2:], mlp_predicted))\n",
    "mlp_images_and_predictions = list(zip(digits.images[len(digits.images) // 2:], mlp_predicted))\n",
    "\n",
    "fig = plt.figure(figsize=(16, 8))\n",
    "axes = fig.subplots(3, 4)\n",
    "\n",
    "# 在图表的第一行输出mlp在测试集的前四个手写体图像上的分类结果，大家可以在图上看看结果对不对\n",
    "for ax, (image, mlp_prediction) in zip(axes[0, :], mlp_images_and_predictions[:4]):\n",
    "    ax.set_axis_off()\n",
    "    ax.imshow(image, cmap=plt.cm.gray_r, interpolation='nearest')\n",
    "    ax.set_title('Prediction: %i' % mlp_prediction)\n",
    "plt.show()"
   ]
  },
  {
   "cell_type": "code",
   "execution_count": 6,
   "id": "d5a43c60",
   "metadata": {
    "scrolled": true
   },
   "outputs": [
    {
     "name": "stdout",
     "output_type": "stream",
     "text": [
      "Classification report for classifier MLPClassifier(max_iter=3000):\n",
      "              precision    recall  f1-score   support\n",
      "\n",
      "           0       0.99      0.98      0.98        88\n",
      "           1       0.93      0.93      0.93        91\n",
      "           2       0.97      0.99      0.98        86\n",
      "           3       0.95      0.86      0.90        91\n",
      "           4       0.96      0.93      0.95        92\n",
      "           5       0.90      0.93      0.92        91\n",
      "           6       0.95      0.99      0.97        91\n",
      "           7       0.95      0.99      0.97        89\n",
      "           8       0.92      0.89      0.90        88\n",
      "           9       0.88      0.90      0.89        92\n",
      "\n",
      "    accuracy                           0.94       899\n",
      "   macro avg       0.94      0.94      0.94       899\n",
      "weighted avg       0.94      0.94      0.94       899\n",
      "\n",
      "\n",
      "Classification report for classifier SVC():\n",
      "              precision    recall  f1-score   support\n",
      "\n",
      "           0       0.99      0.99      0.99        88\n",
      "           1       0.97      0.97      0.97        91\n",
      "           2       1.00      0.98      0.99        86\n",
      "           3       0.98      0.87      0.92        91\n",
      "           4       0.99      0.96      0.97        92\n",
      "           5       0.93      0.97      0.95        91\n",
      "           6       0.99      0.99      0.99        91\n",
      "           7       0.95      0.99      0.97        89\n",
      "           8       0.92      0.95      0.94        88\n",
      "           9       0.92      0.96      0.94        92\n",
      "\n",
      "    accuracy                           0.96       899\n",
      "   macro avg       0.96      0.96      0.96       899\n",
      "weighted avg       0.96      0.96      0.96       899\n",
      "\n",
      "\n",
      "Classification report for classifier LogisticRegression(max_iter=3000):\n",
      "              precision    recall  f1-score   support\n",
      "\n",
      "           0       0.98      0.97      0.97        88\n",
      "           1       0.96      0.88      0.92        91\n",
      "           2       0.99      0.98      0.98        86\n",
      "           3       0.96      0.85      0.90        91\n",
      "           4       0.98      0.92      0.95        92\n",
      "           5       0.90      0.96      0.93        91\n",
      "           6       0.92      0.99      0.95        91\n",
      "           7       0.97      0.96      0.96        89\n",
      "           8       0.87      0.90      0.88        88\n",
      "           9       0.84      0.95      0.89        92\n",
      "\n",
      "    accuracy                           0.93       899\n",
      "   macro avg       0.94      0.93      0.93       899\n",
      "weighted avg       0.94      0.93      0.93       899\n",
      "\n",
      "\n"
     ]
    }
   ],
   "source": [
    "# 输出分类性能指标\n",
    "from sklearn import metrics\n",
    "\n",
    "print(\"Classification report for classifier %s:\\n%s\\n\"\n",
    "      % (mlp, metrics.classification_report(y_test, mlp_predicted)))\n",
    "print(\"Classification report for classifier %s:\\n%s\\n\"\n",
    "      % (svc, metrics.classification_report(y_test, svc_predicted)))\n",
    "print(\"Classification report for classifier %s:\\n%s\\n\"\n",
    "      % (lr, metrics.classification_report(y_test, lr_predicted)))"
   ]
  }
 ],
 "metadata": {
  "kernelspec": {
   "display_name": "MLC_2022",
   "language": "python",
   "name": "mlc_2022"
  },
  "language_info": {
   "codemirror_mode": {
    "name": "ipython",
    "version": 3
   },
   "file_extension": ".py",
   "mimetype": "text/x-python",
   "name": "python",
   "nbconvert_exporter": "python",
   "pygments_lexer": "ipython3",
   "version": "3.8.12"
  }
 },
 "nbformat": 4,
 "nbformat_minor": 5
}
